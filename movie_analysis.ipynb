{
  "nbformat": 4,
  "nbformat_minor": 0,
  "metadata": {
    "colab": {
      "name": "movie_analysis.ipynb",
      "provenance": [],
      "authorship_tag": "ABX9TyN/THAHAxZsXxrNhcXTejsm",
      "include_colab_link": true
    },
    "kernelspec": {
      "name": "python3",
      "display_name": "Python 3"
    }
  },
  "cells": [
    {
      "cell_type": "markdown",
      "metadata": {
        "id": "view-in-github",
        "colab_type": "text"
      },
      "source": [
        "<a href=\"https://colab.research.google.com/github/tazkianida/movie-analysis/blob/main/movie_analysis.ipynb\" target=\"_parent\"><img src=\"https://colab.research.google.com/assets/colab-badge.svg\" alt=\"Open In Colab\"/></a>"
      ]
    },
    {
      "cell_type": "code",
      "metadata": {
        "id": "fsUpuxVHs2l0"
      },
      "source": [
        ""
      ],
      "execution_count": null,
      "outputs": []
    },
    {
      "cell_type": "markdown",
      "metadata": {
        "id": "fPZaNPvYs8TS"
      },
      "source": [
        "https://www.kaggle.com/riteshpatil8998/imdb-movie-dataset"
      ]
    },
    {
      "cell_type": "markdown",
      "metadata": {
        "id": "v_EUJP4hs7Qf"
      },
      "source": [
        ""
      ]
    }
  ]
}